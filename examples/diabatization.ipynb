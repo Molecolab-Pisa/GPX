{
 "cells": [
  {
   "cell_type": "code",
   "execution_count": 1,
   "id": "d0cadfa4-c39a-4b37-b50c-8eb2ee84eae9",
   "metadata": {},
   "outputs": [],
   "source": [
    "%load_ext autoreload\n",
    "%autoreload 2"
   ]
  },
  {
   "cell_type": "code",
   "execution_count": 2,
   "id": "950bb124-b5aa-499f-9de0-cad5cd325a1c",
   "metadata": {},
   "outputs": [],
   "source": [
    "import jax\n",
    "import jax.numpy as jnp"
   ]
  },
  {
   "cell_type": "markdown",
   "id": "810d96ae-23dc-4ab3-a925-c9d8b6716ecd",
   "metadata": {},
   "source": [
    "# Learning adiabatic energies through an (unknown) diabatization"
   ]
  },
  {
   "cell_type": "markdown",
   "id": "898cb48d-3cc3-4784-aae7-fed282230184",
   "metadata": {},
   "source": [
    "This notebook is a proof-of-principle / illustration of the idea to learn adiabatic energies through an unknown diabatization\n",
    "The idea is that adiabatic energies can be learned more efficiently, and all together on the same ground, if one predicts the diabatic hamiltonian and then diagonalizes it to obtain the adiabatic energies"
   ]
  },
  {
   "cell_type": "markdown",
   "id": "221d9d4e-83f0-409e-83e6-c7f58241511c",
   "metadata": {},
   "source": [
    "We use the simplest (maybe simpler than the simplest...) toy model: two atoms, and we take geometries with increasingly higher distances between the two"
   ]
  },
  {
   "cell_type": "code",
   "execution_count": 3,
   "id": "99a211b1-9d42-4eef-bc2e-b43b44a80499",
   "metadata": {},
   "outputs": [
    {
     "name": "stderr",
     "output_type": "stream",
     "text": [
      "WARNING:absl:No GPU/TPU found, falling back to CPU. (Set TF_CPP_MIN_LOG_LEVEL=0 and rerun for more info.)\n"
     ]
    }
   ],
   "source": [
    "start = jnp.array([0.0, 1.0])\n",
    "coords = jnp.array([(start[0], start[1]+d) for d in jnp.linspace(0.0, 5.0, 100)])"
   ]
  },
  {
   "cell_type": "markdown",
   "id": "19e8c79b-6f9a-4af1-a276-e01814d5fef3",
   "metadata": {},
   "source": [
    "Our feature(s) will be the distance between the two atoms"
   ]
  },
  {
   "cell_type": "code",
   "execution_count": 4,
   "id": "8e23cb77-b3a8-433d-b1b8-edf6bb33dbd6",
   "metadata": {},
   "outputs": [],
   "source": [
    "x = jnp.linalg.norm(coords, axis=1).reshape(-1, 1)"
   ]
  },
  {
   "cell_type": "markdown",
   "id": "e49af304-7649-4a97-a8f6-bcb629831461",
   "metadata": {},
   "source": [
    "The real diabatic hamiltonians have constant elements on the diagonal, and a coupling that decreases with the distance"
   ]
  },
  {
   "cell_type": "code",
   "execution_count": 5,
   "id": "c2407d1a-c4fb-411c-a96a-1a5fa886ed9b",
   "metadata": {},
   "outputs": [
    {
     "data": {
      "text/plain": [
       "(100, 2, 2)"
      ]
     },
     "execution_count": 5,
     "metadata": {},
     "output_type": "execute_result"
    }
   ],
   "source": [
    "def generate_target(coords):\n",
    "    targets = []\n",
    "    for c in coords:\n",
    "        target = jnp.array(\n",
    "            [[0.1, 0.5 / jnp.linalg.norm(c)],\n",
    "             [0.5 / jnp.linalg.norm(c), 0.6],]\n",
    "        )\n",
    "        targets.append(target)\n",
    "    targets = jnp.array(targets)\n",
    "    return targets\n",
    "        \n",
    "y_diaba = generate_target(coords)\n",
    "\n",
    "y_diaba.shape"
   ]
  },
  {
   "cell_type": "markdown",
   "id": "c4f0a7e8-0aa1-4bb9-9a00-6b560f6e1ad7",
   "metadata": {},
   "source": [
    "We suppose that we only have access to the adiabatic energies"
   ]
  },
  {
   "cell_type": "code",
   "execution_count": 6,
   "id": "44fff2ca-c616-467e-87ea-9fd40dd9ec9f",
   "metadata": {},
   "outputs": [
    {
     "data": {
      "text/plain": [
       "(100, 2)"
      ]
     },
     "execution_count": 6,
     "metadata": {},
     "output_type": "execute_result"
    }
   ],
   "source": [
    "y_adia = jnp.linalg.eigvalsh(y_diaba)\n",
    "\n",
    "y_adia.shape"
   ]
  },
  {
   "cell_type": "markdown",
   "id": "bd50995f-3fed-4400-b915-854498bee17e",
   "metadata": {},
   "source": [
    "Let's split into train and test sets"
   ]
  },
  {
   "cell_type": "code",
   "execution_count": 7,
   "id": "93ef550a-bffb-44d1-9f88-7ef3606aff19",
   "metadata": {},
   "outputs": [],
   "source": [
    "indices = jnp.arange(x.shape[0])\n",
    "train_indices = indices[::3]\n",
    "test_indices = jnp.setdiff1d(indices, train_indices)\n",
    "\n",
    "x_train = x[train_indices]\n",
    "x_test = x[test_indices]\n",
    "\n",
    "y_adia_train = y_adia[train_indices]\n",
    "y_adia_test = y_adia[test_indices]"
   ]
  },
  {
   "cell_type": "markdown",
   "id": "e763a268-3275-4028-baa0-84e5df3932aa",
   "metadata": {},
   "source": [
    "Let's split also the diabatic hamiltonians, to check them later"
   ]
  },
  {
   "cell_type": "code",
   "execution_count": 8,
   "id": "9ee515fd-72e4-44c5-ac70-af32603b6637",
   "metadata": {},
   "outputs": [],
   "source": [
    "y_diaba_train = y_diaba[train_indices]\n",
    "y_diaba_test = y_diaba[test_indices]"
   ]
  },
  {
   "cell_type": "markdown",
   "id": "bbe29d9b-1e36-4301-9c18-4f541c087795",
   "metadata": {},
   "source": [
    "Our model will be a Radial Basis Function network, which is essentially a Gaussian Process / Kernel Ridge regressor.\n",
    "On top of that, we put a transformation layer that takes as input the prediction of the regressor, performs the diagonalization, and outputs the adiabatic energies. This makes the model nonlinear in the expansion coefficients, and allows to learn an intermediate prediction (the diabatic hamiltonian) for which we have no reference data."
   ]
  },
  {
   "cell_type": "code",
   "execution_count": 9,
   "id": "ab8c1ed3-ae17-4a4b-876f-8e0453760e7c",
   "metadata": {},
   "outputs": [],
   "source": [
    "def diabatization_layer(pred: jnp.ndarray) -> jnp.ndarray:\n",
    "    # n = number of samples\n",
    "    n, _ = pred.shape\n",
    "    diaba_hamil = jnp.zeros((n, 2, 2))\n",
    "    diaba_hamil = diaba_hamil.at[:, 0, 0].set(pred[:, 0])\n",
    "    diaba_hamil = diaba_hamil.at[:, 1, 1].set(pred[:, 1])\n",
    "    diaba_hamil = diaba_hamil.at[:, 0, 1].set(pred[:, 2])\n",
    "    diaba_hamil = diaba_hamil.at[:, 1, 0].set(pred[:, 2])\n",
    "    return jnp.linalg.eigvalsh(diaba_hamil)"
   ]
  },
  {
   "cell_type": "markdown",
   "id": "ae9b3a7c-be1a-4d6e-8092-0f484913d44b",
   "metadata": {},
   "source": [
    "At this point we can instantiate the model. The default loss function is the mean squared error with L2 regularization"
   ]
  },
  {
   "cell_type": "code",
   "execution_count": 10,
   "id": "01cecfc2-5f71-4be0-9a17-4ab39dd60a0a",
   "metadata": {},
   "outputs": [],
   "source": [
    "from gpx.models.rbfnet import RBFNet\n",
    "from gpx.kernels import SquaredExponential\n",
    "from gpx.utils import softplus, inverse_softplus, identity"
   ]
  },
  {
   "cell_type": "markdown",
   "id": "83ec4fbe-7e27-442a-a665-ee402d7aff21",
   "metadata": {},
   "source": [
    "`softplus` (and `inverse_softplus`) are used to ensure that the desired parameters are always positive. `identity` is the null operation."
   ]
  },
  {
   "cell_type": "markdown",
   "id": "a0210423-29c3-49c7-90ea-eeea4de34e2a",
   "metadata": {},
   "source": [
    "Note that the `inducing_points` are provided as a `gpx.Parameter`, since in principle it is possible to optimize also the incuding points.\n",
    "Note also that `inducing_points` can be different from the train set features. One can select, e.g., a subset of them with FPS or CUR or whatever, and build a sparse RBFNet.\n",
    "\n",
    "`num_output` is set to 3 as we predit the two diagonal and the off-diagonal elements of the diabatic Hamiltonian."
   ]
  },
  {
   "cell_type": "code",
   "execution_count": 11,
   "id": "f7abb65c-33ca-45b5-9a66-00b7020b11bc",
   "metadata": {},
   "outputs": [],
   "source": [
    "model = RBFNet(\n",
    "    key=jax.random.PRNGKey(2023),\n",
    "    kernel=SquaredExponential(),\n",
    "    kernel_params=dict(lengthscale=(1.0, True, softplus, inverse_softplus)),\n",
    "    inducing_points=(x_train, False, identity, identity),\n",
    "    num_output=3,\n",
    "    output_layer=diabatization_layer,\n",
    "    alpha=(1.0, True, softplus, inverse_softplus),\n",
    ")"
   ]
  },
  {
   "cell_type": "markdown",
   "id": "17f1387e-47c3-4488-9467-dfcb462b01bf",
   "metadata": {},
   "source": [
    "Always good to check if the model is instantiated correctly"
   ]
  },
  {
   "cell_type": "code",
   "execution_count": 12,
   "id": "4a487331-2156-47a2-a94a-1beddff2b085",
   "metadata": {},
   "outputs": [
    {
     "name": "stdout",
     "output_type": "stream",
     "text": [
      "┌────────────────────┬─────────────┬───────────┬──────────────────┬─────────────┬─────────┬─────────┬─────────────────────────────────┐\n",
      "│ name               │ trainable   │ forward   │ backward         │ type        │ dtype   │ shape   │ value                           │\n",
      "├────────────────────┼─────────────┼───────────┼──────────────────┼─────────────┼─────────┼─────────┼─────────────────────────────────┤\n",
      "│ kernel lengthscale │ True        │ softplus  │ inverse_softplus │ DeviceArray │ float64 │ ()      │ 1.                              │\n",
      "├────────────────────┼─────────────┼───────────┼──────────────────┼─────────────┼─────────┼─────────┼─────────────────────────────────┤\n",
      "│ alpha              │ True        │ softplus  │ inverse_softplus │ DeviceArray │ float64 │ ()      │ 1.                              │\n",
      "├────────────────────┼─────────────┼───────────┼──────────────────┼─────────────┼─────────┼─────────┼─────────────────────────────────┤\n",
      "│ inducing_points    │ False       │ identity  │ identity         │ DeviceArray │ float32 │ (34, 1) │ [[1.]                           │\n",
      "│                    │             │           │                  │             │         │         │  ...                            │\n",
      "│                    │             │           │                  │             │         │         │  [6.]]                          │\n",
      "├────────────────────┼─────────────┼───────────┼──────────────────┼─────────────┼─────────┼─────────┼─────────────────────────────────┤\n",
      "│ weights            │ True        │ identity  │ identity         │ DeviceArray │ float64 │ (34, 3) │ [[-3.13609467 ...  1.48184613]  │\n",
      "│                    │             │           │                  │             │         │         │  ...                            │\n",
      "│                    │             │           │                  │             │         │         │  [ 0.82849953 ...  0.27570084]] │\n",
      "└────────────────────┴─────────────┴───────────┴──────────────────┴─────────────┴─────────┴─────────┴─────────────────────────────────┘\n"
     ]
    }
   ],
   "source": [
    "model.print()"
   ]
  },
  {
   "cell_type": "markdown",
   "id": "76c5ef50-6efb-4bed-b194-b5a0150b0599",
   "metadata": {},
   "source": [
    "Fit (with SciPy's L-BFGS-B)"
   ]
  },
  {
   "cell_type": "code",
   "execution_count": 13,
   "id": "22ed1dda-5e4b-42b9-b07d-d6367d9b1068",
   "metadata": {},
   "outputs": [],
   "source": [
    "model.fit(x_train, y_adia_train)"
   ]
  },
  {
   "cell_type": "markdown",
   "id": "254d975a-2d0a-4abb-bfd2-34c401830707",
   "metadata": {},
   "source": [
    "Check that what should be optimized has been really optimized (and vice-versa)"
   ]
  },
  {
   "cell_type": "code",
   "execution_count": 14,
   "id": "8d2fa266-a07b-42f8-85b8-d10255c55124",
   "metadata": {},
   "outputs": [
    {
     "name": "stdout",
     "output_type": "stream",
     "text": [
      "┌────────────────────┬─────────────┬───────────┬──────────────────┬─────────────┬─────────┬─────────┬─────────────────────────────────┐\n",
      "│ name               │ trainable   │ forward   │ backward         │ type        │ dtype   │ shape   │ value                           │\n",
      "├────────────────────┼─────────────┼───────────┼──────────────────┼─────────────┼─────────┼─────────┼─────────────────────────────────┤\n",
      "│ kernel lengthscale │ True        │ softplus  │ inverse_softplus │ DeviceArray │ float64 │ ()      │ 0.80451228                      │\n",
      "├────────────────────┼─────────────┼───────────┼──────────────────┼─────────────┼─────────┼─────────┼─────────────────────────────────┤\n",
      "│ alpha              │ True        │ softplus  │ inverse_softplus │ DeviceArray │ float64 │ ()      │ 1.56703621e-08                  │\n",
      "├────────────────────┼─────────────┼───────────┼──────────────────┼─────────────┼─────────┼─────────┼─────────────────────────────────┤\n",
      "│ inducing_points    │ False       │ identity  │ identity         │ DeviceArray │ float32 │ (34, 1) │ [[1.]                           │\n",
      "│                    │             │           │                  │             │         │         │  ...                            │\n",
      "│                    │             │           │                  │             │         │         │  [6.]]                          │\n",
      "├────────────────────┼─────────────┼───────────┼──────────────────┼─────────────┼─────────┼─────────┼─────────────────────────────────┤\n",
      "│ weights            │ True        │ identity  │ identity         │ DeviceArray │ float64 │ (34, 3) │ [[ 1.28882824 ... -2.53871867]  │\n",
      "│                    │             │           │                  │             │         │         │  ...                            │\n",
      "│                    │             │           │                  │             │         │         │  [ 1.98285456 ...  0.15147618]] │\n",
      "└────────────────────┴─────────────┴───────────┴──────────────────┴─────────────┴─────────┴─────────┴─────────────────────────────────┘\n"
     ]
    }
   ],
   "source": [
    "model.print()"
   ]
  },
  {
   "cell_type": "markdown",
   "id": "ef030022-d71c-4da9-8fca-8dd61cee3057",
   "metadata": {},
   "source": [
    "Check that the adiabatic energies are learned correctly"
   ]
  },
  {
   "cell_type": "code",
   "execution_count": 15,
   "id": "d08cf2d3-c1b5-46f0-88f5-a320ace1096a",
   "metadata": {},
   "outputs": [],
   "source": [
    "import matplotlib.pyplot as plt\n",
    "plt.style.use('dark_background')"
   ]
  },
  {
   "cell_type": "code",
   "execution_count": 16,
   "id": "a7ae86dc-d0fb-41d6-9368-776024cbce1e",
   "metadata": {},
   "outputs": [
    {
     "data": {
      "text/plain": [
       "(-0.3, 1.0)"
      ]
     },
     "execution_count": 16,
     "metadata": {},
     "output_type": "execute_result"
    },
    {
     "data": {
      "image/png": "[encoded data removed]",
      "text/plain": [
       "<Figure size 400x400 with 1 Axes>"
      ]
     },
     "metadata": {},
     "output_type": "display_data"
    }
   ],
   "source": [
    "fig, ax = plt.subplots(1, 1, figsize=(4, 4))\n",
    "ax.scatter(model.predict(x_train), y_adia_train)\n",
    "ax.set_xlim(-0.3, 1.0)\n",
    "ax.set_ylim(-0.3, 1.0)"
   ]
  },
  {
   "cell_type": "code",
   "execution_count": 17,
   "id": "010a56e0-5a77-4bc2-99f5-1dfcbdaf3830",
   "metadata": {},
   "outputs": [
    {
     "data": {
      "text/plain": [
       "(-0.3, 1.0)"
      ]
     },
     "execution_count": 17,
     "metadata": {},
     "output_type": "execute_result"
    },
    {
     "data": {
      "image/png": "[encoded data removed]",
      "text/plain": [
       "<Figure size 400x400 with 1 Axes>"
      ]
     },
     "metadata": {},
     "output_type": "display_data"
    }
   ],
   "source": [
    "fig, ax = plt.subplots(1, 1, figsize=(4, 4))\n",
    "ax.scatter(model.predict(x_test), y_adia_test)\n",
    "ax.set_xlim(-0.3, 1.0)\n",
    "ax.set_ylim(-0.3, 1.0)"
   ]
  },
  {
   "cell_type": "markdown",
   "id": "1e09d58c-d680-46b0-8a8a-182beb9923bc",
   "metadata": {},
   "source": [
    "We can predict the diabatic hamiltonian by turning off the diabatization layer during the prediction.\n",
    "We can do this setting the `linear_only`"
   ]
  },
  {
   "cell_type": "code",
   "execution_count": 18,
   "id": "d0f6dddd-938e-4649-87ad-df8ccc1f5f88",
   "metadata": {},
   "outputs": [],
   "source": [
    "y_diaba_train_pred = model.predict(x_train, linear_only=True)"
   ]
  },
  {
   "cell_type": "code",
   "execution_count": 19,
   "id": "b95bac96-1439-44ec-ba10-ea13d3bf36f3",
   "metadata": {},
   "outputs": [
    {
     "data": {
      "text/plain": [
       "(34, 3)"
      ]
     },
     "execution_count": 19,
     "metadata": {},
     "output_type": "execute_result"
    }
   ],
   "source": [
    "y_diaba_train_pred.shape"
   ]
  },
  {
   "cell_type": "markdown",
   "id": "0f39f803-afca-4335-a305-58d1266eb5c0",
   "metadata": {},
   "source": [
    "Let's take a look at the first sample"
   ]
  },
  {
   "cell_type": "code",
   "execution_count": 20,
   "id": "94c4db8d-0de2-49ee-91d3-b9acbd7d421b",
   "metadata": {},
   "outputs": [
    {
     "data": {
      "text/plain": [
       "DeviceArray([ 0.6254471 ,  0.07208631, -0.48379103], dtype=float64)"
      ]
     },
     "execution_count": 20,
     "metadata": {},
     "output_type": "execute_result"
    }
   ],
   "source": [
    "y_diaba_train_pred[0]\n",
    "# first diagonal element, second diagonal element, off-diagonal element"
   ]
  },
  {
   "cell_type": "code",
   "execution_count": 21,
   "id": "65ac8fab-3d14-46f9-b11b-b8d2c98af23d",
   "metadata": {},
   "outputs": [
    {
     "data": {
      "text/plain": [
       "DeviceArray([[0.1, 0.5],\n",
       "             [0.5, 0.6]], dtype=float32)"
      ]
     },
     "execution_count": 21,
     "metadata": {},
     "output_type": "execute_result"
    }
   ],
   "source": [
    "y_diaba_train[0]"
   ]
  },
  {
   "cell_type": "code",
   "execution_count": null,
   "id": "9b48135b-3e07-445d-9df4-b06fa4c286db",
   "metadata": {},
   "outputs": [],
   "source": []
  },
  {
   "cell_type": "code",
   "execution_count": null,
   "id": "0d5a5517-293a-4be4-9b91-47cb08a92e83",
   "metadata": {},
   "outputs": [],
   "source": []
  }
 ],
 "metadata": {
  "kernelspec": {
   "display_name": "Python 3 (ipykernel)",
   "language": "python",
   "name": "python3"
  },
  "language_info": {
   "codemirror_mode": {
    "name": "ipython",
    "version": 3
   },
   "file_extension": ".py",
   "mimetype": "text/x-python",
   "name": "python",
   "nbconvert_exporter": "python",
   "pygments_lexer": "ipython3",
   "version": "3.10.10"
  }
 },
 "nbformat": 4,
 "nbformat_minor": 5
}
