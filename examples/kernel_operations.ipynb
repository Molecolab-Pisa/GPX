{
 "cells": [
  {
   "cell_type": "code",
   "execution_count": 1,
   "id": "956a7e77-ca69-4859-99bc-50dea3d1002b",
   "metadata": {
    "tags": []
   },
   "outputs": [],
   "source": [
    "import os\n",
    "\n",
    "os.environ[\"CUDA_VISIBLE_DEVICES\"] = str(0)\n",
    "\n",
    "import jax\n",
    "import jax.numpy as jnp\n",
    "from jax import random\n",
    "\n",
    "from gpx.kernels import Sum, Prod\n",
    "from gpx.kernels import Linear, Matern52\n",
    "from gpx.parameters import Parameter\n",
    "from gpx.priors import NormalPrior\n",
    "from gpx.utils import softplus, inverse_softplus\n",
    "\n",
    "import matplotlib as mpl\n",
    "import matplotlib.pyplot as plt\n",
    "\n",
    "plt.style.use(\"dark_background\")\n",
    "\n",
    "%load_ext autoreload\n",
    "%autoreload 2"
   ]
  },
  {
   "cell_type": "markdown",
   "id": "1640b472-e48d-405f-88a3-9b73e9e99cd9",
   "metadata": {},
   "source": [
    "## Operations among kernels \n",
    "\n",
    "It is possible to perform sums and products (element-wise) between kernels, to obtain a new kernel. As an example, we propose this operation:\n",
    "\n",
    "$$\n",
    "k(\\{\\chi,\\bar{\\chi}\\},\\{\\chi',\\bar{\\chi}'\\}) = k_1 (\\chi,\\chi') + k_1 (\\chi,\\chi') \\times k_2 (\\bar{\\chi},\\bar{\\chi}')\n",
    "$$\n",
    "\n",
    "Since we pass features as a single array, we may need to select which features must be included in each kernel. We show how to use the attribute `active_dims` to do that."
   ]
  },
  {
   "cell_type": "code",
   "execution_count": 2,
   "id": "58376c25-22ca-48a2-9782-a9239f8b1374",
   "metadata": {
    "tags": []
   },
   "outputs": [
    {
     "name": "stderr",
     "output_type": "stream",
     "text": [
      "No GPU/TPU found, falling back to CPU. (Set TF_CPP_MIN_LOG_LEVEL=0 and rerun for more info.)\n"
     ]
    }
   ],
   "source": [
    "n_samples = 100\n",
    "n_features = 10 # 4 + 6\n",
    "\n",
    "X = random.normal(key=random.PRNGKey(2023), shape=(n_samples,n_features))"
   ]
  },
  {
   "cell_type": "code",
   "execution_count": 3,
   "id": "503c529a-87a3-414a-8eb7-d21e2053fbc7",
   "metadata": {
    "tags": []
   },
   "outputs": [
    {
     "data": {
      "text/plain": [
       "(100, 10)"
      ]
     },
     "execution_count": 3,
     "metadata": {},
     "output_type": "execute_result"
    }
   ],
   "source": [
    "X.shape"
   ]
  },
  {
   "cell_type": "code",
   "execution_count": 4,
   "id": "e3eca9e5-d0d4-4935-b972-88ee27e1e602",
   "metadata": {
    "tags": []
   },
   "outputs": [],
   "source": [
    "K1 = Linear(active_dims=[0, 1, 2, 3])\n",
    "K2 = Matern52(active_dims=[4, 5, 6, 7, 8, 9])\n",
    "\n",
    "K = Sum(K1, Prod(K1, K2))"
   ]
  },
  {
   "cell_type": "code",
   "execution_count": 5,
   "id": "95a18ad1-2022-41a1-b697-5817c6b92ad5",
   "metadata": {
    "tags": []
   },
   "outputs": [],
   "source": [
    "parameters = {\n",
    "    'kernel1': {},\n",
    "    'kernel2': {\n",
    "        'kernel1': {},\n",
    "        'kernel2': {'lengthscale': Parameter(\n",
    "            1.0,\n",
    "            trainable=True,\n",
    "            forward_transform=softplus,\n",
    "            backward_transform=inverse_softplus,\n",
    "            prior=NormalPrior(),\n",
    "        )}\n",
    "    }\n",
    "}"
   ]
  },
  {
   "cell_type": "code",
   "execution_count": 8,
   "id": "40587a4c",
   "metadata": {},
   "outputs": [
    {
     "data": {
      "text/plain": [
       "Array([[ 8.2005132 , -0.19720892,  1.51426235, ...,  0.94999283,\n",
       "         0.22494487, -2.93347995],\n",
       "       [-0.19720892,  2.6757051 ,  0.72331013, ..., -0.06176633,\n",
       "         0.91016731, -1.62965559],\n",
       "       [ 1.51426235,  0.72331013,  7.61130429, ...,  0.78260093,\n",
       "         1.31966987, -2.95024783],\n",
       "       ...,\n",
       "       [ 0.94999283, -0.06176633,  0.78260093, ...,  5.53811681,\n",
       "         0.8657378 ,  1.73220853],\n",
       "       [ 0.22494487,  0.91016731,  1.31966987, ...,  0.8657378 ,\n",
       "         1.7362445 , -0.73706293],\n",
       "       [-2.93347995, -1.62965559, -2.95024783, ...,  1.73220853,\n",
       "        -0.73706293, 14.31534414]], dtype=float64)"
      ]
     },
     "execution_count": 8,
     "metadata": {},
     "output_type": "execute_result"
    }
   ],
   "source": [
    "K.k(X, X, parameters)"
   ]
  },
  {
   "cell_type": "code",
   "execution_count": 7,
   "id": "328e7b55-c2a1-4df3-a331-416f3c362aae",
   "metadata": {
    "tags": []
   },
   "outputs": [
    {
     "data": {
      "text/plain": [
       "(100, 100)"
      ]
     },
     "execution_count": 7,
     "metadata": {},
     "output_type": "execute_result"
    }
   ],
   "source": [
    "K.k(X, X, parameters).shape"
   ]
  },
  {
   "cell_type": "code",
   "execution_count": null,
   "id": "f01d58fe-3d3f-4a2d-9184-2e434b81f9b6",
   "metadata": {},
   "outputs": [],
   "source": []
  },
  {
   "cell_type": "code",
   "execution_count": null,
   "id": "92af06ae-11bb-4e45-8a82-4aaaa2b6f404",
   "metadata": {},
   "outputs": [],
   "source": []
  }
 ],
 "metadata": {
  "kernelspec": {
   "display_name": "Python 3 (ipykernel)",
   "language": "python",
   "name": "python3"
  },
  "language_info": {
   "codemirror_mode": {
    "name": "ipython",
    "version": 3
   },
   "file_extension": ".py",
   "mimetype": "text/x-python",
   "name": "python",
   "nbconvert_exporter": "python",
   "pygments_lexer": "ipython3",
   "version": "3.10.12"
  }
 },
 "nbformat": 4,
 "nbformat_minor": 5
}
