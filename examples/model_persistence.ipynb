{
 "cells": [
  {
   "cell_type": "code",
   "execution_count": 2,
   "id": "419a7868-6a2e-4bb1-add9-e4d907d3bee8",
   "metadata": {},
   "outputs": [],
   "source": [
    "%load_ext autoreload\n",
    "%autoreload 2"
   ]
  },
  {
   "cell_type": "markdown",
   "id": "fcb613d5-6127-41a3-a786-d3f505ed021f",
   "metadata": {},
   "source": [
    "It is possible to save/load the model within GPX.\n",
    "Each model class exposes two methods, `save` and `load`, that allow one to save and load the **values** of the inner `ModelState`."
   ]
  },
  {
   "cell_type": "code",
   "execution_count": 1,
   "id": "b323fc95-7632-4366-a765-e441a4ed685b",
   "metadata": {},
   "outputs": [],
   "source": [
    "import jax.numpy as jnp\n",
    "from jax import random"
   ]
  },
  {
   "cell_type": "code",
   "execution_count": 3,
   "id": "66c15f95-96ad-4dd5-9ba0-9a90cd382624",
   "metadata": {},
   "outputs": [],
   "source": [
    "import gpx\n",
    "from gpx.kernels import SquaredExponential\n",
    "from gpx.utils import softplus, inverse_softplus\n",
    "from gpx.models import GPR"
   ]
  },
  {
   "cell_type": "code",
   "execution_count": 4,
   "id": "6c699734-bb5d-4fdd-9a6d-6095c096c88a",
   "metadata": {},
   "outputs": [
    {
     "name": "stderr",
     "output_type": "stream",
     "text": [
      "No GPU/TPU found, falling back to CPU. (Set TF_CPP_MIN_LOG_LEVEL=0 and rerun for more info.)\n"
     ]
    }
   ],
   "source": [
    "model = GPR(\n",
    "    kernel=SquaredExponential(),\n",
    ")"
   ]
  },
  {
   "cell_type": "code",
   "execution_count": 5,
   "id": "0f125d97-8458-4357-86e1-c4e69afd925f",
   "metadata": {},
   "outputs": [],
   "source": [
    "# Generate synthetic data\n",
    "train_x = jnp.linspace(0, 1, 100)\n",
    "key = random.PRNGKey(0)\n",
    "train_y = jnp.sin(train_x * (2 * jnp.pi)) + random.normal(\n",
    "    key, shape=train_x.shape\n",
    ") * jnp.sqrt(0.04)\n",
    "test_x = jnp.linspace(-0.5, 1.5, 51)\n",
    "test_f = jnp.sin(test_x * (2 * jnp.pi))\n",
    "\n",
    "train_x = train_x.reshape(-1, 1)\n",
    "train_y = train_y.reshape(-1, 1)\n",
    "test_x = test_x.reshape(-1, 1)\n",
    "test_f = test_f.reshape(-1, 1)"
   ]
  },
  {
   "cell_type": "code",
   "execution_count": 6,
   "id": "7acd33c4-8109-472d-b85b-6e2af41fe715",
   "metadata": {},
   "outputs": [
    {
     "data": {
      "text/plain": [
       "<gpx.models.gpr.GaussianProcessRegression at 0x14e9d5c4e8f0>"
      ]
     },
     "execution_count": 6,
     "metadata": {},
     "output_type": "execute_result"
    }
   ],
   "source": [
    "# Fit using SciPy's L-BFGS-B\n",
    "model.fit(train_x, train_y)"
   ]
  },
  {
   "cell_type": "code",
   "execution_count": 7,
   "id": "a674a37b-c2df-4481-ae05-b16a5d8c96b5",
   "metadata": {},
   "outputs": [
    {
     "name": "stdout",
     "output_type": "stream",
     "text": [
      "┌────────────────────┬─────────────┬───────────┬──────────────────┬──────────────────┬───────────┬─────────┬─────────┬──────────┐\n",
      "│ name               │ trainable   │ forward   │ backward         │ prior            │ type      │ dtype   │ shape   │    value │\n",
      "├────────────────────┼─────────────┼───────────┼──────────────────┼──────────────────┼───────────┼─────────┼─────────┼──────────┤\n",
      "│ kernel lengthscale │ True        │ softplus  │ inverse_softplus │ Normal(0.0, 1.0) │ ArrayImpl │ float64 │ ()      │ 0.411059 │\n",
      "├────────────────────┼─────────────┼───────────┼──────────────────┼──────────────────┼───────────┼─────────┼─────────┼──────────┤\n",
      "│ sigma              │ True        │ softplus  │ inverse_softplus │ Normal(0.0, 1.0) │ ArrayImpl │ float64 │ ()      │ 0.217113 │\n",
      "└────────────────────┴─────────────┴───────────┴──────────────────┴──────────────────┴───────────┴─────────┴─────────┴──────────┘\n"
     ]
    }
   ],
   "source": [
    "model.print()"
   ]
  },
  {
   "cell_type": "markdown",
   "id": "47e10d17-6fcb-4a49-8f00-b9dca960ae01",
   "metadata": {},
   "source": [
    "The model state values are stored inside an uncompressed NumPy `npz` file.\n",
    "The function `save` also returns the dictionary of values that are saved."
   ]
  },
  {
   "cell_type": "code",
   "execution_count": 8,
   "id": "6d70b96b-ed35-49c2-9959-6b78068369bd",
   "metadata": {},
   "outputs": [],
   "source": [
    "saved_dict = model.save(\"model_state.npz\")"
   ]
  },
  {
   "cell_type": "markdown",
   "id": "3aecb364-fc05-4ce9-94f4-3a5f17dc42ba",
   "metadata": {},
   "source": [
    "Loading the model is reminiscent of the [PyTorch API](https://pytorch.org/tutorials/beginner/saving_loading_models.html#save-load-state-dict-recommended). It requires reinstantiating the model, and then updating the model parameters by reading them from file."
   ]
  },
  {
   "cell_type": "code",
   "execution_count": 9,
   "id": "6b6f67c0-692b-4b6d-9de2-18a2c7d2e75b",
   "metadata": {},
   "outputs": [],
   "source": [
    "new_model = GPR(\n",
    "    kernel=SquaredExponential(),\n",
    ")"
   ]
  },
  {
   "cell_type": "code",
   "execution_count": 10,
   "id": "379b99d0-1e9c-4b7a-957f-3199c9cfed71",
   "metadata": {},
   "outputs": [
    {
     "name": "stdout",
     "output_type": "stream",
     "text": [
      "┌────────────────────┬─────────────┬───────────┬──────────────────┬──────────────────┬───────────┬─────────┬─────────┬─────────┐\n",
      "│ name               │ trainable   │ forward   │ backward         │ prior            │ type      │ dtype   │ shape   │   value │\n",
      "├────────────────────┼─────────────┼───────────┼──────────────────┼──────────────────┼───────────┼─────────┼─────────┼─────────┤\n",
      "│ kernel lengthscale │ True        │ softplus  │ inverse_softplus │ Normal(0.0, 1.0) │ ArrayImpl │ float64 │ ()      │       1 │\n",
      "├────────────────────┼─────────────┼───────────┼──────────────────┼──────────────────┼───────────┼─────────┼─────────┼─────────┤\n",
      "│ sigma              │ True        │ softplus  │ inverse_softplus │ Normal(0.0, 1.0) │ ArrayImpl │ float64 │ ()      │       1 │\n",
      "└────────────────────┴─────────────┴───────────┴──────────────────┴──────────────────┴───────────┴─────────┴─────────┴─────────┘\n"
     ]
    }
   ],
   "source": [
    "new_model.print()"
   ]
  },
  {
   "cell_type": "code",
   "execution_count": 11,
   "id": "c1a7e840-71c2-4a06-a10c-94301757be71",
   "metadata": {},
   "outputs": [
    {
     "data": {
      "text/plain": [
       "<gpx.models.gpr.GaussianProcessRegression at 0x14e9a82e7c10>"
      ]
     },
     "execution_count": 11,
     "metadata": {},
     "output_type": "execute_result"
    }
   ],
   "source": [
    "new_model.load(\"model_state.npz\")"
   ]
  },
  {
   "cell_type": "code",
   "execution_count": 12,
   "id": "70ee9c2b-5b91-4b2f-9064-a8e3fbb5b473",
   "metadata": {},
   "outputs": [
    {
     "name": "stdout",
     "output_type": "stream",
     "text": [
      "┌────────────────────┬─────────────┬───────────┬──────────────────┬──────────────────┬───────────┬─────────┬─────────┬──────────┐\n",
      "│ name               │ trainable   │ forward   │ backward         │ prior            │ type      │ dtype   │ shape   │    value │\n",
      "├────────────────────┼─────────────┼───────────┼──────────────────┼──────────────────┼───────────┼─────────┼─────────┼──────────┤\n",
      "│ kernel lengthscale │ True        │ softplus  │ inverse_softplus │ Normal(0.0, 1.0) │ ArrayImpl │ float64 │ ()      │ 0.411059 │\n",
      "├────────────────────┼─────────────┼───────────┼──────────────────┼──────────────────┼───────────┼─────────┼─────────┼──────────┤\n",
      "│ sigma              │ True        │ softplus  │ inverse_softplus │ Normal(0.0, 1.0) │ ArrayImpl │ float64 │ ()      │ 0.217113 │\n",
      "└────────────────────┴─────────────┴───────────┴──────────────────┴──────────────────┴───────────┴─────────┴─────────┴──────────┘\n"
     ]
    }
   ],
   "source": [
    "new_model.print()"
   ]
  },
  {
   "cell_type": "code",
   "execution_count": 13,
   "id": "269a1775-dc84-41dc-8d35-a839a76a877d",
   "metadata": {},
   "outputs": [
    {
     "data": {
      "text/plain": [
       "array(True)"
      ]
     },
     "execution_count": 13,
     "metadata": {},
     "output_type": "execute_result"
    }
   ],
   "source": [
    "new_model.state.is_fitted"
   ]
  },
  {
   "cell_type": "code",
   "execution_count": 14,
   "id": "de40c6d9-62fa-414d-aec0-a4db6af0a952",
   "metadata": {},
   "outputs": [],
   "source": [
    "%%bash\n",
    "\n",
    "if [ -f model_state.npz ] ; then rm model_state.npz ; fi"
   ]
  },
  {
   "cell_type": "code",
   "execution_count": null,
   "id": "f36971ec-512f-4e08-b858-91ee32c83411",
   "metadata": {},
   "outputs": [],
   "source": []
  }
 ],
 "metadata": {
  "kernelspec": {
   "display_name": "Python 3 (ipykernel)",
   "language": "python",
   "name": "python3"
  },
  "language_info": {
   "codemirror_mode": {
    "name": "ipython",
    "version": 3
   },
   "file_extension": ".py",
   "mimetype": "text/x-python",
   "name": "python",
   "nbconvert_exporter": "python",
   "pygments_lexer": "ipython3",
   "version": "3.10.12"
  }
 },
 "nbformat": 4,
 "nbformat_minor": 5
}
